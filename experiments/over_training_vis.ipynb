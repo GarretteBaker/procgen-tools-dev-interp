{
 "cells": [
  {
   "cell_type": "code",
   "execution_count": 1,
   "metadata": {},
   "outputs": [],
   "source": [
    "def get_model_number(model_name):\n",
    "    # model is of format model_<number>:v<version>\n",
    "    return int(model_name.split('_')[1].split(':')[0])"
   ]
  },
  {
   "cell_type": "code",
   "execution_count": 10,
   "metadata": {},
   "outputs": [
    {
     "name": "stderr",
     "output_type": "stream",
     "text": [
      "  0%|          | 0/3282 [00:00<?, ?it/s]\u001b[34m\u001b[1mwandb\u001b[0m:   1 of 1 files downloaded.  \n",
      "  0%|          | 1/3282 [00:03<3:12:13,  3.52s/it]\u001b[34m\u001b[1mwandb\u001b[0m:   1 of 1 files downloaded.  \n",
      "  0%|          | 2/3282 [00:07<3:12:08,  3.51s/it]\u001b[34m\u001b[1mwandb\u001b[0m:   1 of 1 files downloaded.  \n",
      "  0%|          | 3/3282 [00:10<3:18:53,  3.64s/it]\u001b[34m\u001b[1mwandb\u001b[0m:   1 of 1 files downloaded.  \n",
      "  0%|          | 4/3282 [00:14<3:17:52,  3.62s/it]\u001b[34m\u001b[1mwandb\u001b[0m:   1 of 1 files downloaded.  \n",
      "  0%|          | 5/3282 [00:18<3:17:15,  3.61s/it]\u001b[34m\u001b[1mwandb\u001b[0m:   1 of 1 files downloaded.  \n",
      "  0%|          | 5/3282 [00:20<3:46:36,  4.15s/it]\n"
     ]
    },
    {
     "ename": "KeyboardInterrupt",
     "evalue": "",
     "output_type": "error",
     "traceback": [
      "\u001b[0;31m---------------------------------------------------------------------------\u001b[0m",
      "\u001b[0;31mKeyboardInterrupt\u001b[0m                         Traceback (most recent call last)",
      "Cell \u001b[0;32mIn[10], line 22\u001b[0m\n\u001b[1;32m     20\u001b[0m \u001b[38;5;28;01mfor\u001b[39;00m artifact \u001b[38;5;129;01min\u001b[39;00m tqdm(artifacts):\n\u001b[1;32m     21\u001b[0m     artifact_to_download \u001b[38;5;241m=\u001b[39m api\u001b[38;5;241m.\u001b[39martifact(\u001b[38;5;124mf\u001b[39m\u001b[38;5;124m\"\u001b[39m\u001b[38;5;132;01m{\u001b[39;00mproject_name\u001b[38;5;132;01m}\u001b[39;00m\u001b[38;5;124m/\u001b[39m\u001b[38;5;132;01m{\u001b[39;00martifact\u001b[38;5;241m.\u001b[39mname\u001b[38;5;132;01m}\u001b[39;00m\u001b[38;5;124m\"\u001b[39m, \u001b[38;5;28mtype\u001b[39m\u001b[38;5;241m=\u001b[39m\u001b[38;5;124m\"\u001b[39m\u001b[38;5;124mmodel\u001b[39m\u001b[38;5;124m\"\u001b[39m)\n\u001b[0;32m---> 22\u001b[0m     artifact_dir \u001b[38;5;241m=\u001b[39m \u001b[43martifact_to_download\u001b[49m\u001b[38;5;241;43m.\u001b[39;49m\u001b[43mdownload\u001b[49m\u001b[43m(\u001b[49m\u001b[43m)\u001b[49m\n\u001b[1;32m     23\u001b[0m     model_file \u001b[38;5;241m=\u001b[39m \u001b[38;5;124mf\u001b[39m\u001b[38;5;124m\"\u001b[39m\u001b[38;5;132;01m{\u001b[39;00martifact_dir\u001b[38;5;132;01m}\u001b[39;00m\u001b[38;5;124m/\u001b[39m\u001b[38;5;132;01m{\u001b[39;00martifact\u001b[38;5;241m.\u001b[39mname[:\u001b[38;5;241m-\u001b[39m\u001b[38;5;241m3\u001b[39m]\u001b[38;5;132;01m}\u001b[39;00m\u001b[38;5;124m.pth\u001b[39m\u001b[38;5;124m\"\u001b[39m\n\u001b[1;32m     24\u001b[0m     model \u001b[38;5;241m=\u001b[39m torch\u001b[38;5;241m.\u001b[39mload(model_file)\n",
      "File \u001b[0;32m/usr/local/lib/python3.10/dist-packages/wandb/sdk/artifacts/artifact.py:1706\u001b[0m, in \u001b[0;36mArtifact.download\u001b[0;34m(self, root, allow_missing_references)\u001b[0m\n\u001b[1;32m   1701\u001b[0m \u001b[38;5;28;01mif\u001b[39;00m get_core_path() \u001b[38;5;241m!=\u001b[39m \u001b[38;5;124m\"\u001b[39m\u001b[38;5;124m\"\u001b[39m:\n\u001b[1;32m   1702\u001b[0m     \u001b[38;5;28;01mreturn\u001b[39;00m \u001b[38;5;28mself\u001b[39m\u001b[38;5;241m.\u001b[39m_download_using_core(\n\u001b[1;32m   1703\u001b[0m         root\u001b[38;5;241m=\u001b[39mroot,\n\u001b[1;32m   1704\u001b[0m         allow_missing_references\u001b[38;5;241m=\u001b[39mallow_missing_references,\n\u001b[1;32m   1705\u001b[0m     )\n\u001b[0;32m-> 1706\u001b[0m \u001b[38;5;28;01mreturn\u001b[39;00m \u001b[38;5;28;43mself\u001b[39;49m\u001b[38;5;241;43m.\u001b[39;49m\u001b[43m_download\u001b[49m\u001b[43m(\u001b[49m\n\u001b[1;32m   1707\u001b[0m \u001b[43m    \u001b[49m\u001b[43mroot\u001b[49m\u001b[38;5;241;43m=\u001b[39;49m\u001b[43mroot\u001b[49m\u001b[43m,\u001b[49m\n\u001b[1;32m   1708\u001b[0m \u001b[43m    \u001b[49m\u001b[43mallow_missing_references\u001b[49m\u001b[38;5;241;43m=\u001b[39;49m\u001b[43mallow_missing_references\u001b[49m\u001b[43m,\u001b[49m\n\u001b[1;32m   1709\u001b[0m \u001b[43m\u001b[49m\u001b[43m)\u001b[49m\n",
      "File \u001b[0;32m/usr/local/lib/python3.10/dist-packages/wandb/sdk/artifacts/artifact.py:1849\u001b[0m, in \u001b[0;36mArtifact._download\u001b[0;34m(self, root, allow_missing_references)\u001b[0m\n\u001b[1;32m   1847\u001b[0m                     \u001b[38;5;28;01mbreak\u001b[39;00m\n\u001b[1;32m   1848\u001b[0m     \u001b[38;5;66;03m# Check for errors.\u001b[39;00m\n\u001b[0;32m-> 1849\u001b[0m     \u001b[38;5;28;01mfor\u001b[39;00m future \u001b[38;5;129;01min\u001b[39;00m concurrent\u001b[38;5;241m.\u001b[39mfutures\u001b[38;5;241m.\u001b[39mas_completed(active_futures):\n\u001b[1;32m   1850\u001b[0m         future\u001b[38;5;241m.\u001b[39mresult()\n\u001b[1;32m   1852\u001b[0m \u001b[38;5;28;01mif\u001b[39;00m log:\n",
      "File \u001b[0;32m/usr/lib/python3.10/concurrent/futures/_base.py:245\u001b[0m, in \u001b[0;36mas_completed\u001b[0;34m(fs, timeout)\u001b[0m\n\u001b[1;32m    240\u001b[0m     \u001b[38;5;28;01mif\u001b[39;00m wait_timeout \u001b[38;5;241m<\u001b[39m \u001b[38;5;241m0\u001b[39m:\n\u001b[1;32m    241\u001b[0m         \u001b[38;5;28;01mraise\u001b[39;00m \u001b[38;5;167;01mTimeoutError\u001b[39;00m(\n\u001b[1;32m    242\u001b[0m                 \u001b[38;5;124m'\u001b[39m\u001b[38;5;132;01m%d\u001b[39;00m\u001b[38;5;124m (of \u001b[39m\u001b[38;5;132;01m%d\u001b[39;00m\u001b[38;5;124m) futures unfinished\u001b[39m\u001b[38;5;124m'\u001b[39m \u001b[38;5;241m%\u001b[39m (\n\u001b[1;32m    243\u001b[0m                 \u001b[38;5;28mlen\u001b[39m(pending), total_futures))\n\u001b[0;32m--> 245\u001b[0m \u001b[43mwaiter\u001b[49m\u001b[38;5;241;43m.\u001b[39;49m\u001b[43mevent\u001b[49m\u001b[38;5;241;43m.\u001b[39;49m\u001b[43mwait\u001b[49m\u001b[43m(\u001b[49m\u001b[43mwait_timeout\u001b[49m\u001b[43m)\u001b[49m\n\u001b[1;32m    247\u001b[0m \u001b[38;5;28;01mwith\u001b[39;00m waiter\u001b[38;5;241m.\u001b[39mlock:\n\u001b[1;32m    248\u001b[0m     finished \u001b[38;5;241m=\u001b[39m waiter\u001b[38;5;241m.\u001b[39mfinished_futures\n",
      "File \u001b[0;32m/usr/lib/python3.10/threading.py:607\u001b[0m, in \u001b[0;36mEvent.wait\u001b[0;34m(self, timeout)\u001b[0m\n\u001b[1;32m    605\u001b[0m signaled \u001b[38;5;241m=\u001b[39m \u001b[38;5;28mself\u001b[39m\u001b[38;5;241m.\u001b[39m_flag\n\u001b[1;32m    606\u001b[0m \u001b[38;5;28;01mif\u001b[39;00m \u001b[38;5;129;01mnot\u001b[39;00m signaled:\n\u001b[0;32m--> 607\u001b[0m     signaled \u001b[38;5;241m=\u001b[39m \u001b[38;5;28;43mself\u001b[39;49m\u001b[38;5;241;43m.\u001b[39;49m\u001b[43m_cond\u001b[49m\u001b[38;5;241;43m.\u001b[39;49m\u001b[43mwait\u001b[49m\u001b[43m(\u001b[49m\u001b[43mtimeout\u001b[49m\u001b[43m)\u001b[49m\n\u001b[1;32m    608\u001b[0m \u001b[38;5;28;01mreturn\u001b[39;00m signaled\n",
      "File \u001b[0;32m/usr/lib/python3.10/threading.py:320\u001b[0m, in \u001b[0;36mCondition.wait\u001b[0;34m(self, timeout)\u001b[0m\n\u001b[1;32m    318\u001b[0m \u001b[38;5;28;01mtry\u001b[39;00m:    \u001b[38;5;66;03m# restore state no matter what (e.g., KeyboardInterrupt)\u001b[39;00m\n\u001b[1;32m    319\u001b[0m     \u001b[38;5;28;01mif\u001b[39;00m timeout \u001b[38;5;129;01mis\u001b[39;00m \u001b[38;5;28;01mNone\u001b[39;00m:\n\u001b[0;32m--> 320\u001b[0m         \u001b[43mwaiter\u001b[49m\u001b[38;5;241;43m.\u001b[39;49m\u001b[43macquire\u001b[49m\u001b[43m(\u001b[49m\u001b[43m)\u001b[49m\n\u001b[1;32m    321\u001b[0m         gotit \u001b[38;5;241m=\u001b[39m \u001b[38;5;28;01mTrue\u001b[39;00m\n\u001b[1;32m    322\u001b[0m     \u001b[38;5;28;01melse\u001b[39;00m:\n",
      "\u001b[0;31mKeyboardInterrupt\u001b[0m: "
     ]
    }
   ],
   "source": [
    "import wandb\n",
    "from tqdm import tqdm\n",
    "import torch\n",
    "from procgen_tools import maze, visualization, models\n",
    "import os\n",
    "import shutil\n",
    "import matplotlib.pyplot as plt\n",
    "# Set your specific run ID here\n",
    "run_id = \"jp9tjfzd\"\n",
    "project_name = \"procgen\"\n",
    "\n",
    "# Initialize wandb API\n",
    "api = wandb.Api()\n",
    "\n",
    "# Fetch the run\n",
    "run = api.run(f\"{project_name}/{run_id}\")\n",
    "\n",
    "# List all artifacts for this run\n",
    "artifacts = run.logged_artifacts()\n",
    "for artifact in tqdm(artifacts):\n",
    "    artifact_to_download = api.artifact(f\"{project_name}/{artifact.name}\", type=\"model\")\n",
    "    artifact_dir = artifact_to_download.download()\n",
    "    model_file = f\"{artifact_dir}/{artifact.name[:-3]}.pth\"\n",
    "    model = torch.load(model_file)\n",
    "    if \"state_dict\" in model:\n",
    "        model[\"model_state_dict\"] = model.pop(\"state_dict\")\n",
    "    torch.save(model, model_file)\n",
    "    model = models.load_policy(model_file, 15, torch.device(\"cuda:0\"))\n",
    "    venv = maze.create_venv(1, start_level=0, num_levels=1)\n",
    "    vf_original = visualization.vector_field(venv, model)\n",
    "    frames_dir = f\"/workspace/maze-values-dev-interp/procgen-tools-dev-interp/experiments/frames\"\n",
    "    os.makedirs(frames_dir, exist_ok=True)\n",
    "    # Save each plot as an image\n",
    "    frame_filename = os.path.join(frames_dir, f\"frame_{get_model_number(artifact.name)}.png\")\n",
    "    visualization.plot_vf(vf_original)\n",
    "    plt.savefig(frame_filename)\n",
    "    plt.close()\n",
    "    # delete model file\n",
    "    shutil.rmtree(artifact_dir)"
   ]
  },
  {
   "cell_type": "code",
   "execution_count": null,
   "metadata": {},
   "outputs": [],
   "source": [
    "import os\n",
    "import glob\n",
    "import torch\n",
    "from procgen_tools import maze, visualization, models\n",
    "import matplotlib.pyplot as plt\n",
    "import imageio\n",
    "from tqdm import tqdm\n",
    "model_files = glob.glob(\"/workspace/maze-values-dev-interp/procgen-tools-dev-interp/experiments/logs/procgen/maze_aisc/hard-run/seed_712_13-01-2024_07-29-19/logs/procgen/maze_aisc/hard-run/seed_712_13-01-2024_07-29-19/*.pth\")\n",
    "print(model_files)\n",
    "# sort by modification time\n",
    "model_files.sort(reverse=False)\n",
    "frames_dir = \"/workspace/frames\"\n",
    "i = 0\n",
    "os.makedirs(frames_dir, exist_ok=True)\n",
    "for model_file in tqdm(model_files):\n",
    "    # loading to torch\n",
    "    # Load the model file and print its keys\n",
    "    checkpoint = torch.load(model_file, map_location=torch.device('cpu'))\n",
    "    if \"state_dict\" in checkpoint:\n",
    "        checkpoint['model_state_dict'] = checkpoint.pop(\"state_dict\")\n",
    "    torch.save(checkpoint, model_file)\n",
    "    # try to load to cuda, if that doesn't work try to load to cpu\n",
    "    try:\n",
    "        policy = models.load_policy(model_file, 15, torch.device('cpu'))  # Adjust parameters as needed\n",
    "    except:\n",
    "        print(\"Loading to cuda failed, loading to cpu...\")\n",
    "        policy = models.load_policy(model_file, 15, torch.device('cpu'))\n",
    "\n",
    "    venv = maze.create_venv(1, start_level=0, num_levels=1)\n",
    "    vf_original = visualization.vector_field(venv, policy)\n",
    "    \n",
    "    # Save each plot as an image\n",
    "    frame_filename = os.path.join(frames_dir, f\"frame_{i}.png\")\n",
    "    i += 1\n",
    "    visualization.plot_vf(vf_original)\n",
    "    plt.savefig(frame_filename)\n",
    "    plt.close()\n"
   ]
  },
  {
   "cell_type": "code",
   "execution_count": null,
   "metadata": {},
   "outputs": [],
   "source": [
    "import os\n",
    "import glob\n",
    "import re\n",
    "from moviepy.editor import ImageSequenceClip\n",
    "\n",
    "frames_dir = \"/workspace/frames\"\n",
    "\n",
    "# Function to extract the frame number from the filename\n",
    "def extract_number(f):\n",
    "    s = re.findall(\"\\d+\", f)\n",
    "    return (int(s[0]) if s else -1, f)\n",
    "\n",
    "# Sort frame files numerically\n",
    "frame_files = sorted(glob.glob(os.path.join(frames_dir, \"*.png\")), key=extract_number, reverse=True)\n",
    "\n",
    "# Create video clip\n",
    "clip = ImageSequenceClip(frame_files, fps=4)  # Adjust fps\n",
    "clip.write_videofile('/workspace/policy_evolution.mp4', codec='libx264')\n",
    "\n",
    "# Display the video (in Jupyter notebooks)\n",
    "from IPython.display import Video\n",
    "Video('/workspace/policy_evolution.mp4')\n"
   ]
  },
  {
   "cell_type": "code",
   "execution_count": null,
   "metadata": {},
   "outputs": [],
   "source": [
    "from IPython.display import Video\n",
    "\n",
    "Video(\"/workspace/policy_evolution.mp4\")"
   ]
  },
  {
   "cell_type": "code",
   "execution_count": null,
   "metadata": {},
   "outputs": [],
   "source": [
    "# Create GIF\n",
    "frame_files = sorted(glob.glob(os.path.join(frames_dir, \"*.png\")), key=lambda x: os.path.getmtime(x))\n",
    "images = [imageio.imread(filename) for filename in frame_files]\n",
    "imageio.mimsave('policy_evolution.gif', images, fps=4)  # Adjust fps\n",
    "\n",
    "from IPython.display import Image\n",
    "Image(filename='policy_evolution.gif')"
   ]
  },
  {
   "cell_type": "code",
   "execution_count": null,
   "metadata": {},
   "outputs": [],
   "source": [
    "import torch as t\n",
    "from procgen_tools import maze, vfield, models\n",
    "\n",
    "# Load pretrained policy\n",
    "policy = models.load_policy('trained_models/maze_I/model_rand_region_5.pth', 15, t.device('cpu'))\n",
    "venv = maze.create_venv(1, start_level=0, num_levels=1)\n",
    "vf_original = vfield.vector_field(venv, policy)\n",
    "vfield.plot_vf(vf_original)\n",
    "plt.show()"
   ]
  }
 ],
 "metadata": {
  "kernelspec": {
   "display_name": "Python 3",
   "language": "python",
   "name": "python3"
  },
  "language_info": {
   "codemirror_mode": {
    "name": "ipython",
    "version": 3
   },
   "file_extension": ".py",
   "mimetype": "text/x-python",
   "name": "python",
   "nbconvert_exporter": "python",
   "pygments_lexer": "ipython3",
   "version": "3.10.12"
  }
 },
 "nbformat": 4,
 "nbformat_minor": 2
}
